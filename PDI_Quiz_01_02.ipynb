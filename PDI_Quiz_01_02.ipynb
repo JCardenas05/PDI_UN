{
  "nbformat": 4,
  "nbformat_minor": 0,
  "metadata": {
    "colab": {
      "private_outputs": true,
      "provenance": []
    },
    "kernelspec": {
      "name": "python3",
      "display_name": "Python 3"
    },
    "language_info": {
      "name": "python"
    }
  },
  "cells": [
    {
      "cell_type": "code",
      "source": [
        "def load_data(FILEID):\n",
        "    #FILEID es la identificación de un archivo .zip en mi drive con permisos para cualquiera que posea el ID\n",
        "    ## dicho ID se encuentra en celdas más abajo.\n",
        "    #Se carga, descomprime y finalmente guarda en la variable Data el conjunto de datos.\n",
        "    !wget --load-cookies /tmp/cookies.txt \"https://docs.google.com/uc?export=download&confirm=$(wget --quiet --save-cookies /tmp/cookies.txt --keep-session-cookies --no-check-certificate 'https://docs.google.com/uc?export=download&id='$FILEID -O- | sed -rn 's/.*confirm=([0-9A-Za-z_]+).*/\\1\\n/p')&id=\"$FILEID -O codigos.zip && rm -rf /tmp/cookies.txt\n",
        "    !unzip codigos.zip\n",
        "    !dir\n",
        "\n",
        "    #Data=df.read_csv('/content/UpdatedResumeDataSet.csv')\n",
        "\n",
        "load_data('1MNxr-FFnz2RIurEpQgQg6m377DdqsZZY')"
      ],
      "metadata": {
        "id": "xMYlofKVp_qQ"
      },
      "execution_count": null,
      "outputs": []
    },
    {
      "cell_type": "code",
      "execution_count": null,
      "metadata": {
        "id": "ogX5tH2wpgeH"
      },
      "outputs": [],
      "source": [
        "import numpy as np\n",
        "from PIL import Image, ImageFont, ImageDraw\n",
        "path='/content/images/'\n",
        "im = Image.open(path+'antelops.jpeg') # read the image, provide the correct path\n",
        "print(im.width, im.height, im.mode, im.format, type(im))\n",
        "# 453 340 RGB PNG <class 'PIL.PngImagePlugin.PngImageFile'>\n",
        "im.show() # display the image\n",
        "display(im)"
      ]
    },
    {
      "cell_type": "code",
      "source": [
        "from skimage import color, viewer, exposure, img_as_float, data\n",
        "from skimage.io import imread, imsave, imshow, show, imread_collection, imshow_collection\n",
        "from skimage import color, viewer, exposure, img_as_float, data\n",
        "from PIL import Image\n",
        "import matplotlib.pylab as pylab\n",
        "import matplotlib.image as mpimg\n",
        "import matplotlib.pylab as plt\n",
        "\n",
        "im = imread(path+\"antelops.jpeg\")\n",
        "im_g = color.rgb2hsv(im)\n",
        "im_g = color.rgb2lab(im) # from HSV back to RGB\n",
        "plt.subplot(141), plt.imshow(im, cmap='gray'), plt.axis('off')\n",
        "plt.subplot(142), plt.imshow(im_g[:,:,0], cmap='gray'), plt.axis('off')\n",
        "plt.subplot(143), plt.imshow(im_g[:,:,1], cmap='gray'), plt.axis('off')\n",
        "plt.subplot(144), plt.imshow(im_g[:,:,2], cmap='gray'), plt.axis('off')\n",
        "plt.show()"
      ],
      "metadata": {
        "id": "hqLgLSM_qN0u"
      },
      "execution_count": null,
      "outputs": []
    },
    {
      "cell_type": "code",
      "source": [],
      "metadata": {
        "id": "-xjDoU-GuB0A"
      },
      "execution_count": null,
      "outputs": []
    },
    {
      "cell_type": "code",
      "source": [
        "im = imread(path+\"antelops.jpeg\")\n",
        "im_hsv = color.rgb2hsv(im)\n",
        "plt.gray()\n",
        "plt.figure(figsize=(10,8))\n",
        "plt.subplot(221), plt.imshow(im_hsv[...,0]), plt.title('h', size=20),\n",
        "plt.axis('off')\n",
        "plt.subplot(222), plt.imshow(im_hsv[...,1]), plt.title('s', size=20),\n",
        "plt.axis('off')\n",
        "plt.subplot(223), plt.imshow(im_hsv[...,2]), plt.title('v', size=20),\n",
        "plt.axis('off')\n",
        "plt.subplot(224), plt.axis('off')\n",
        "plt.show()"
      ],
      "metadata": {
        "id": "fbpnhKPcqt47"
      },
      "execution_count": null,
      "outputs": []
    },
    {
      "cell_type": "code",
      "source": [
        "ima1=im_hsv[...,0].copy()\n",
        "ima1[ima1>0.11]=1\n",
        "ima1[ima1<0.11]=0\n",
        "plt.imshow(ima1)"
      ],
      "metadata": {
        "id": "ysz2bnwLrC7V"
      },
      "execution_count": null,
      "outputs": []
    },
    {
      "cell_type": "markdown",
      "source": [
        "## Escalar imagen"
      ],
      "metadata": {
        "id": "qBvD71VXsHr0"
      }
    },
    {
      "cell_type": "code",
      "source": [
        "im = Image.open(path+\"antelops.jpeg\")\n",
        "scale = 6\n",
        "im1 = im.resize((im.width*scale, im.height*scale), Image.BILINEAR) # nearest neighbor interpolation\n",
        "pylab.figure(figsize=(10,10)), pylab.imshow(im1)\n",
        "pylab.show()"
      ],
      "metadata": {
        "id": "2cVv0V7OsCFt"
      },
      "execution_count": null,
      "outputs": []
    },
    {
      "cell_type": "markdown",
      "source": [
        "## Histograms"
      ],
      "metadata": {
        "id": "nBoXToprs3xs"
      }
    },
    {
      "cell_type": "code",
      "source": [
        "im = Image.open(path+\"antelops.jpeg\")\n",
        "pl = im.histogram()\n",
        "plt.bar(range(256), pl[:256], color='r', alpha=0.5)\n",
        "plt.bar(range(256), pl[256:2*256], color='g', alpha=0.4)\n",
        "plt.bar(range(256), pl[2*256:], color='b', alpha=0.3)\n",
        "plt.show()"
      ],
      "metadata": {
        "id": "bgDI5N5Ks3gG"
      },
      "execution_count": null,
      "outputs": []
    },
    {
      "cell_type": "code",
      "source": [
        "from PIL import Image, ImageOps\n",
        "import matplotlib.pyplot as plt\n",
        "\n",
        "im = Image.open(path + \"antelops.jpeg\")\n",
        "\n",
        "equalized_im = ImageOps.equalize(im)\n",
        "plt.figure(figsize=(20,15))\n",
        "plt.subplot(2, 2, 1)\n",
        "plt.imshow(im)\n",
        "plt.title(\"Original Image\")\n",
        "\n",
        "plt.subplot(2, 2, 2)\n",
        "plt.imshow(equalized_im)\n",
        "plt.title(\"Equalized Image\")\n",
        "\n",
        "plt.subplot(2, 2, 3)\n",
        "pl = im.histogram()\n",
        "plt.bar(range(256), pl[:256], color='r', alpha=0.5)\n",
        "plt.bar(range(256), pl[256:2*256], color='g', alpha=0.4)\n",
        "plt.bar(range(256), pl[2*256:], color='b', alpha=0.3)\n",
        "plt.title(\"Original Histogram\")\n",
        "\n",
        "plt.subplot(2, 2, 4)\n",
        "pl_eq = equalized_im.histogram()\n",
        "plt.bar(range(256), pl_eq[:256], color='r', alpha=0.5)\n",
        "plt.bar(range(256), pl_eq[256:2*256], color='g', alpha=0.4)\n",
        "plt.bar(range(256), pl_eq[2*256:], color='b', alpha=0.3)\n",
        "plt.title(\"Equalized Histogram\")\n",
        "\n",
        "plt.tight_layout()\n",
        "plt.show()"
      ],
      "metadata": {
        "id": "YchDhzjStLnK"
      },
      "execution_count": null,
      "outputs": []
    }
  ]
}